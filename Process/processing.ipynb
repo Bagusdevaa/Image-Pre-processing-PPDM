{
 "cells": [
  {
   "cell_type": "code",
   "execution_count": 10,
   "metadata": {},
   "outputs": [],
   "source": [
    "import pandas as pd"
   ]
  },
  {
   "cell_type": "code",
   "execution_count": 11,
   "metadata": {},
   "outputs": [
    {
     "data": {
      "text/plain": [
       "array([[ 67,  56,  87, ...,  63,  67,  66],\n",
       "       [ 80,  66, 129, ...,  71,  75,  75],\n",
       "       [ 96,  63,  74, ...,  78,  81,  78],\n",
       "       ...,\n",
       "       [101, 149, 204, ...,  25,  28,  33],\n",
       "       [172, 189, 173, ...,  30,  33,  40],\n",
       "       [119, 124, 165, ...,  34,  37,  43]], dtype=uint8)"
      ]
     },
     "execution_count": 11,
     "metadata": {},
     "output_type": "execute_result"
    }
   ],
   "source": [
    "import cv2\n",
    "import numpy as np\n",
    "import matplotlib.pyplot as plt\n",
    "\n",
    "# Load gambar grayscale\n",
    "img = cv2.imread('D:/KULIAH/Mata Kuliah/semester-4/PPDM/tugas-2/assets/sad/sad-0609.jpg', 0)\n",
    "\n",
    "# Konversi ke pixel matrix\n",
    "pixel_matrix = np.array(img)\n",
    "# df = pd.DataFrame(pixel_matrix)\n",
    "pixel_matrix\n",
    "# Pembuatan color histogram\n",
    "# hist, bins = np.histogram(pixel_matrix.ravel(), 256, [0, 256])\n",
    "\n",
    "# # Menampilkan histogram\n",
    "# plt.hist(pixel_matrix.ravel(), 256, [0, 256])\n",
    "# plt.show()\n"
   ]
  },
  {
   "cell_type": "code",
   "execution_count": 12,
   "metadata": {},
   "outputs": [
    {
     "ename": "NameError",
     "evalue": "name 'image' is not defined",
     "output_type": "error",
     "traceback": [
      "\u001b[1;31m---------------------------------------------------------------------------\u001b[0m",
      "\u001b[1;31mNameError\u001b[0m                                 Traceback (most recent call last)",
      "\u001b[1;32m~\\AppData\\Local\\Temp/ipykernel_28748/4064439106.py\u001b[0m in \u001b[0;36m<module>\u001b[1;34m\u001b[0m\n\u001b[0;32m     18\u001b[0m \u001b[1;33m\u001b[0m\u001b[0m\n\u001b[0;32m     19\u001b[0m     \u001b[1;31m# Pembuatan colour histogram\u001b[0m\u001b[1;33m\u001b[0m\u001b[1;33m\u001b[0m\u001b[0m\n\u001b[1;32m---> 20\u001b[1;33m     \u001b[0mhistogram\u001b[0m\u001b[1;33m,\u001b[0m \u001b[0m_\u001b[0m \u001b[1;33m=\u001b[0m \u001b[0mnp\u001b[0m\u001b[1;33m.\u001b[0m\u001b[0mhistogram\u001b[0m\u001b[1;33m(\u001b[0m\u001b[0mpixel_matrix\u001b[0m\u001b[1;33m,\u001b[0m \u001b[0mbins\u001b[0m\u001b[1;33m=\u001b[0m\u001b[0mnp\u001b[0m\u001b[1;33m.\u001b[0m\u001b[0marange\u001b[0m\u001b[1;33m(\u001b[0m\u001b[1;36m0\u001b[0m\u001b[1;33m,\u001b[0m \u001b[1;36m257\u001b[0m\u001b[1;33m,\u001b[0m\u001b[0mimage\u001b[0m\u001b[1;33m.\u001b[0m\u001b[0mpng\u001b[0m\u001b[1;33m)\u001b[0m\u001b[1;33m)\u001b[0m\u001b[1;33m\u001b[0m\u001b[1;33m\u001b[0m\u001b[0m\n\u001b[0m\u001b[0;32m     21\u001b[0m \u001b[1;33m\u001b[0m\u001b[0m\n\u001b[0;32m     22\u001b[0m     \u001b[1;31m# Penghitungan first order statistics\u001b[0m\u001b[1;33m\u001b[0m\u001b[1;33m\u001b[0m\u001b[0m\n",
      "\u001b[1;31mNameError\u001b[0m: name 'image' is not defined"
     ]
    }
   ],
   "source": [
    "import cv2\n",
    "import numpy as np\n",
    "from matplotlib import pyplot as plt\n",
    "\n",
    "# Load gambar grayscale\n",
    "img1 = cv2.imread('D:/KULIAH/Mata Kuliah/semester-4/PPDM/tugas-2/assets/sad/sad-0607.jpg', 0)\n",
    "img2 = cv2.imread('D:/KULIAH/Mata Kuliah/semester-4/PPDM/tugas-2/assets/sad/sad-0608.jpg', 0)\n",
    "img3 = cv2.imread('D:/KULIAH/Mata Kuliah/semester-4/PPDM/tugas-2/assets/sad/sad-0609.jpg', 0)\n",
    "\n",
    "\n",
    "# Simpan gambar ke dalam list\n",
    "images = [img1, img2, img3]\n",
    "\n",
    "# Looping untuk menampilkan setiap gambar\n",
    "for img in images:\n",
    "    # Konversi ke pixel matrix\n",
    "    pixel_matrix = np.array(img)\n",
    "\n",
    "    # Pembuatan colour histogram\n",
    "    histogram, _ = np.histogram(pixel_matrix, bins=np.arange(0, 257,image.png))\n",
    "\n",
    "    # Penghitungan first order statistics\n",
    "    mean = np.mean(pixel_matrix)\n",
    "    std_dev = np.std(pixel_matrix)\n",
    "\n",
    "    # Menampilkan hasil\n",
    "    plt.subplot(131), plt.imshow(img, cmap='gray')\n",
    "    plt.title('Grayscale Image'), plt.xticks([]), plt.yticks([])\n",
    "    plt.subplot(132), plt.bar(np.arange(0, 256), histogram)\n",
    "    plt.title('Colour Histogram'), plt.xticks([]), plt.yticks([])\n",
    "    plt.subplot(133), plt.text(0.5, 0.5, f'Mean: {mean:.2f}\\nStd Dev: {std_dev:.2f}', ha='center', va='center', fontsize=12)\n",
    "    plt.title('First Order Statistics'), plt.xticks([]), plt.yticks([])\n",
    "    plt.show()\n"
   ]
  },
  {
   "cell_type": "code",
   "execution_count": null,
   "metadata": {},
   "outputs": [
    {
     "name": "stdout",
     "output_type": "stream",
     "text": [
      "[67, 56, 87, 70, 64, 131, 120, 83, 110, 103, 103, 100, 100, 110, 121, 119, 118, 121, 123, 118, 115, 117, 113, 107, 104, 99, 99, 99, 89, 89, 85, 87, 78, 72, 78, 77, 78, 76, 71, 70, 71, 68, 61, 60, 62, 63, 67, 66, 80, 66, 129, 119, 79, 148, 105, 84, 84, 82, 80, 83, 103, 115, 109, 114, 108, 108, 110, 113, 114, 112, 108, 108, 107, 97, 96, 91, 92, 92, 90, 83, 80, 78, 71, 82, 76, 74, 77, 82, 75, 75, 71, 70, 70, 71, 75, 75, 96, 63, 74, 132, 92, 92, 76, 101, 69, 62, 60, 65, 72, 89, 106, 106, 105, 103, 100, 101, 104, 103, 103, 107, 102, 97, 99, 93, 97, 99, 98, 92, 94, 93, 93, 92, 96, 89, 96, 90, 87, 88, 83, 80, 78, 78, 81, 78, 96, 68, 33, 63, 71, 50, 83, 102, 112, 95, 75, 54, 45, 53, 59, 75, 81, 91, 91, 91, 96, 98, 98, 100, 97, 102, 107, 110, 108, 115, 112, 111, 110, 108, 110, 112, 113, 120, 112, 106, 106, 105, 96, 90, 87, 87, 86, 80, 93, 70, 73, 46, 37, 65, 105, 115, 122, 132, 114, 75, 35, 29, 41, 56, 64, 80, 87, 92, 92, 87, 92, 100, 98, 106, 113, 119, 119, 123, 119, 120, 126, 120, 121, 123, 121, 124, 120, 123, 117, 116, 107, 99, 94, 90, 87, 80, 100, 108, 158, 124, 44, 63, 112, 93, 96, 121, 122, 102, 69, 43, 27, 38, 53, 85, 95, 85, 80, 86, 92, 86, 91, 97, 106, 102, 106, 104, 104, 106, 112, 114, 116, 113, 112, 106, 118, 119, 118, 119, 113, 106, 98, 91, 86, 80, 106, 124, 172, 160, 81, 40, 93, 79, 62, 46, 60, 75, 73, 72, 43, 41, 50, 65, 76, 88, 87, 78, 77, 73, 63, 65, 64, 53, 56, 59, 61, 62, 67, 77, 79, 91, 90, 100, 107, 107, 108, 108, 104, 103, 100, 94, 89, 83, 112, 113, 115, 103, 56, 40, 48, 85, 136, 151, 94, 64, 48, 50, 64, 51, 53, 61, 65, 76, 83, 83, 77, 59, 55, 50, 33, 23, 27, 43, 40, 38, 46, 40, 53, 68, 87, 97, 98, 100, 90, 87, 83, 88, 94, 94, 90, 83, 123, 126, 105, 83, 48, 34, 26, 25, 25, 63, 75, 90, 87, 64, 41, 54, 54, 59, 67, 71, 77, 68, 64, 55, 52, 36, 31, 25, 20, 26, 27, 28, 46, 58, 69, 77, 78, 91, 84, 98, 93, 85, 77, 73, 69, 80, 85, 88, 134, 153, 110, 75, 64, 44, 53, 136, 78, 12, 0, 30, 64, 68, 67, 46, 53, 59, 69, 69, 75, 70, 65, 56, 40, 34, 31, 23, 36, 30, 41, 66, 88, 103, 105, 103, 101, 98, 104, 98, 94, 87, 82, 65, 64, 61, 71, 81, 135, 126, 114, 99, 69, 35, 84, 135, 122, 53, 3, 140, 186, 101, 48, 62, 56, 62, 77, 83, 87, 76, 66, 59, 47, 37, 30, 32, 34, 45, 59, 75, 92, 102, 97, 100, 95, 96, 94, 100, 91, 92, 78, 53, 59, 57, 56, 64, 119, 96, 100, 98, 80, 69, 125, 131, 105, 128, 144, 168, 188, 154, 106, 46, 89, 83, 82, 95, 97, 87, 77, 67, 53, 40, 31, 32, 35, 33, 21, 36, 39, 36, 40, 53, 61, 73, 76, 85, 83, 73, 63, 57, 48, 53, 52, 54, 114, 104, 94, 85, 102, 132, 142, 142, 98, 95, 90, 95, 98, 103, 128, 107, 102, 98, 95, 123, 121, 107, 94, 78, 60, 51, 37, 33, 20, 24, 32, 59, 112, 129, 87, 53, 36, 31, 26, 35, 49, 57, 56, 58, 45, 50, 43, 49, 128, 122, 109, 88, 85, 121, 141, 133, 124, 87, 64, 65, 73, 95, 114, 116, 119, 103, 106, 151, 148, 128, 112, 96, 80, 65, 69, 62, 57, 26, 6, 8, 12, 38, 59, 83, 103, 122, 112, 67, 30, 34, 36, 38, 40, 41, 42, 52, 118, 123, 128, 109, 74, 93, 144, 133, 115, 115, 104, 97, 133, 161, 130, 126, 127, 107, 129, 174, 170, 144, 121, 103, 97, 93, 103, 104, 82, 22, 74, 66, 21, 3, 0, 19, 26, 28, 61, 72, 59, 29, 28, 33, 30, 28, 45, 57, 128, 119, 124, 117, 75, 103, 143, 128, 113, 117, 111, 104, 161, 162, 124, 129, 115, 116, 161, 178, 154, 136, 135, 131, 132, 126, 124, 129, 122, 128, 102, 66, 12, 10, 11, 166, 169, 111, 47, 43, 12, 20, 18, 10, 24, 32, 42, 62, 154, 126, 109, 129, 90, 109, 134, 135, 107, 120, 107, 126, 105, 121, 138, 127, 113, 144, 196, 154, 126, 126, 133, 137, 138, 132, 126, 127, 136, 124, 105, 89, 79, 39, 112, 172, 164, 142, 128, 90, 35, 61, 109, 68, 57, 59, 69, 76, 138, 130, 128, 144, 87, 108, 140, 133, 124, 143, 136, 146, 148, 142, 129, 114, 134, 194, 164, 127, 121, 112, 118, 131, 128, 132, 130, 131, 138, 152, 137, 94, 88, 99, 80, 89, 109, 82, 88, 91, 93, 81, 121, 125, 109, 103, 95, 101, 129, 126, 163, 154, 97, 121, 148, 134, 137, 153, 131, 149, 148, 142, 118, 119, 171, 161, 106, 106, 115, 108, 110, 131, 136, 129, 127, 137, 134, 143, 148, 129, 90, 63, 55, 57, 60, 53, 52, 51, 78, 123, 118, 111, 113, 106, 101, 109, 114, 113, 159, 140, 95, 122, 143, 125, 147, 147, 131, 151, 143, 126, 123, 143, 203, 124, 99, 96, 101, 115, 119, 129, 138, 134, 133, 139, 136, 139, 139, 130, 133, 103, 88, 80, 72, 65, 73, 88, 121, 134, 127, 118, 117, 110, 107, 104, 110, 114, 126, 122, 92, 124, 143, 126, 150, 140, 136, 153, 133, 124, 125, 165, 169, 116, 115, 104, 109, 114, 120, 124, 135, 133, 139, 137, 141, 148, 146, 134, 113, 103, 95, 108, 100, 73, 90, 116, 114, 124, 128, 119, 117, 108, 106, 103, 120, 112, 102, 95, 93, 129, 139, 129, 148, 133, 135, 144, 127, 141, 125, 173, 180, 145, 140, 136, 126, 104, 106, 116, 119, 106, 117, 134, 144, 143, 144, 136, 127, 88, 86, 103, 88, 70, 99, 115, 115, 121, 116, 118, 112, 103, 102, 95, 124, 111, 107, 85, 97, 130, 130, 130, 148, 128, 142, 142, 148, 151, 125, 143, 140, 143, 167, 171, 128, 87, 86, 99, 109, 102, 95, 115, 134, 141, 149, 139, 136, 131, 113, 109, 107, 83, 99, 111, 116, 115, 115, 104, 98, 103, 94, 94, 111, 117, 113, 95, 94, 119, 121, 126, 147, 126, 134, 146, 148, 141, 105, 92, 82, 99, 122, 146, 138, 99, 75, 67, 67, 95, 87, 106, 129, 137, 147, 142, 144, 147, 142, 133, 130, 97, 99, 115, 110, 105, 101, 100, 97, 88, 90, 84, 125, 131, 124, 145, 138, 110, 120, 127, 145, 126, 130, 161, 97, 83, 112, 84, 73, 84, 75, 110, 147, 133, 118, 92, 66, 57, 86, 106, 125, 135, 141, 143, 143, 135, 138, 138, 139, 110, 108, 117, 107, 102, 97, 89, 92, 88, 83, 77, 123, 125, 124, 165, 174, 112, 109, 126, 143, 129, 144, 166, 145, 52, 64, 91, 75, 85, 81, 80, 121, 134, 142, 116, 81, 53, 71, 101, 127, 132, 134, 139, 136, 135, 136, 135, 133, 94, 109, 123, 107, 102, 96, 88, 89, 85, 82, 79, 119, 109, 118, 153, 155, 124, 116, 128, 142, 130, 142, 164, 162, 153, 63, 89, 97, 60, 14, 5, 28, 56, 65, 56, 52, 35, 61, 94, 121, 129, 132, 136, 117, 126, 139, 129, 128, 95, 111, 110, 104, 100, 95, 89, 88, 81, 76, 73, 124, 113, 110, 133, 118, 97, 124, 132, 124, 130, 148, 161, 165, 159, 122, 124, 127, 99, 71, 81, 73, 49, 48, 36, 25, 34, 74, 105, 125, 133, 136, 136, 118, 107, 128, 124, 117, 95, 110, 112, 101, 97, 91, 86, 82, 74, 67, 65, 122, 124, 124, 104, 86, 61, 102, 133, 131, 138, 150, 157, 153, 157, 150, 142, 137, 130, 138, 139, 104, 98, 61, 52, 51, 62, 96, 121, 131, 131, 128, 128, 111, 90, 116, 122, 100, 87, 105, 104, 97, 91, 82, 77, 73, 68, 62, 62, 126, 141, 155, 109, 88, 86, 103, 132, 145, 126, 141, 154, 149, 151, 151, 149, 153, 147, 141, 122, 114, 113, 115, 94, 102, 105, 120, 130, 132, 133, 130, 128, 115, 89, 102, 113, 83, 79, 106, 97, 87, 83, 74, 71, 67, 65, 59, 58, 155, 158, 139, 114, 96, 117, 142, 139, 138, 116, 148, 147, 147, 151, 150, 151, 150, 153, 151, 143, 124, 118, 120, 116, 121, 124, 128, 125, 123, 128, 127, 122, 117, 81, 92, 116, 89, 78, 96, 88, 75, 76, 69, 67, 63, 62, 55, 53, 151, 148, 124, 110, 113, 147, 168, 133, 120, 113, 132, 144, 154, 157, 124, 117, 144, 143, 143, 138, 128, 127, 126, 128, 124, 127, 129, 126, 123, 125, 121, 114, 110, 73, 87, 98, 77, 77, 86, 80, 72, 73, 66, 63, 57, 57, 53, 52, 121, 138, 129, 121, 139, 137, 145, 125, 106, 108, 127, 135, 145, 152, 164, 145, 139, 121, 116, 130, 134, 122, 127, 124, 120, 128, 128, 127, 125, 118, 111, 110, 104, 74, 76, 91, 59, 68, 84, 64, 63, 65, 62, 58, 56, 52, 48, 50, 134, 140, 115, 122, 146, 135, 103, 94, 106, 86, 92, 91, 105, 102, 124, 127, 138, 133, 120, 109, 118, 127, 116, 114, 113, 118, 120, 117, 115, 113, 106, 105, 94, 66, 62, 73, 52, 64, 79, 57, 64, 65, 60, 56, 54, 50, 47, 48, 160, 135, 123, 136, 124, 117, 91, 66, 106, 42, 58, 66, 92, 83, 86, 71, 89, 90, 98, 121, 128, 124, 110, 104, 98, 97, 102, 101, 102, 102, 97, 95, 84, 67, 50, 55, 63, 71, 71, 56, 62, 61, 56, 53, 52, 51, 49, 50, 159, 140, 155, 174, 155, 127, 94, 49, 97, 93, 125, 62, 74, 73, 65, 68, 74, 71, 63, 52, 80, 123, 107, 78, 75, 78, 85, 82, 82, 87, 90, 82, 74, 66, 47, 51, 75, 73, 64, 58, 57, 54, 51, 49, 49, 50, 49, 49, 143, 131, 139, 166, 174, 140, 106, 61, 87, 109, 122, 183, 144, 110, 74, 67, 58, 56, 47, 37, 28, 36, 60, 51, 44, 51, 58, 58, 62, 69, 78, 65, 62, 53, 45, 53, 68, 62, 59, 53, 52, 48, 45, 44, 44, 45, 45, 43, 141, 131, 121, 140, 151, 133, 117, 76, 66, 120, 138, 176, 202, 201, 176, 132, 117, 96, 69, 54, 52, 28, 14, 20, 18, 14, 25, 41, 59, 65, 72, 64, 57, 50, 39, 44, 61, 56, 53, 49, 47, 44, 42, 42, 41, 42, 43, 41, 118, 129, 128, 142, 154, 135, 119, 84, 54, 125, 121, 145, 170, 194, 180, 188, 191, 174, 147, 132, 122, 105, 92, 81, 36, 25, 33, 33, 47, 57, 61, 60, 56, 60, 39, 33, 53, 54, 48, 48, 43, 40, 40, 40, 38, 40, 43, 41, 124, 119, 123, 134, 136, 109, 103, 69, 49, 107, 125, 105, 116, 122, 117, 129, 168, 166, 169, 159, 139, 133, 125, 127, 114, 109, 105, 53, 38, 54, 56, 55, 55, 64, 47, 33, 40, 47, 49, 46, 41, 37, 37, 37, 34, 36, 39, 38, 133, 127, 134, 151, 124, 92, 87, 74, 59, 81, 122, 102, 82, 90, 92, 106, 118, 103, 114, 101, 107, 88, 86, 73, 63, 58, 57, 56, 51, 48, 52, 57, 59, 58, 45, 35, 35, 42, 49, 43, 41, 37, 37, 36, 37, 38, 36, 38, 138, 124, 122, 168, 137, 89, 90, 84, 79, 74, 38, 109, 86, 56, 51, 59, 70, 59, 60, 54, 47, 36, 27, 19, 26, 36, 48, 52, 51, 51, 52, 51, 48, 50, 46, 36, 32, 36, 40, 40, 40, 37, 37, 36, 35, 33, 30, 30, 137, 130, 112, 154, 138, 96, 84, 71, 46, 55, 63, 129, 104, 76, 56, 45, 36, 28, 24, 26, 22, 29, 30, 33, 42, 46, 48, 45, 43, 46, 48, 46, 42, 42, 45, 36, 30, 32, 32, 37, 36, 33, 33, 31, 29, 27, 24, 25, 155, 137, 134, 146, 156, 162, 148, 157, 169, 190, 241, 214, 123, 87, 92, 82, 79, 68, 59, 51, 45, 42, 44, 43, 48, 42, 39, 40, 39, 40, 42, 43, 41, 38, 38, 34, 29, 28, 28, 33, 33, 29, 27, 24, 23, 23, 22, 25, 139, 193, 178, 204, 215, 214, 161, 190, 188, 206, 190, 204, 135, 95, 102, 89, 84, 78, 76, 71, 70, 59, 54, 47, 50, 44, 44, 47, 44, 38, 37, 39, 38, 37, 32, 32, 27, 22, 25, 27, 29, 24, 22, 20, 20, 22, 24, 28, 101, 149, 204, 168, 186, 161, 110, 163, 189, 123, 169, 219, 127, 122, 83, 85, 85, 84, 79, 80, 77, 70, 62, 56, 52, 47, 44, 44, 43, 42, 41, 40, 34, 36, 31, 30, 24, 17, 22, 23, 17, 15, 18, 19, 21, 25, 28, 33, 172, 189, 173, 92, 134, 162, 142, 112, 196, 177, 148, 197, 158, 88, 102, 73, 77, 77, 69, 70, 69, 68, 67, 66, 59, 54, 49, 48, 45, 43, 39, 34, 32, 33, 30, 25, 19, 16, 18, 19, 12, 14, 22, 25, 27, 30, 33, 40, 119, 124, 165, 113, 109, 187, 153, 115, 169, 185, 193, 150, 148, 98, 127, 86, 70, 71, 67, 65, 68, 63, 65, 62, 55, 51, 50, 49, 43, 36, 34, 35, 32, 28, 25, 16, 12, 15, 13, 15, 18, 22, 31, 34, 33, 34, 37, 43]\n"
     ]
    }
   ],
   "source": [
    "from PIL import Image\n",
    "\n",
    "# membuka gambar\n",
    "img = Image.open(\"D:/KULIAH/Mata Kuliah/semester-4/PPDM/tugas-2/assets/sad/sad-0609.jpg\")\n",
    "\n",
    "# mengubah ke mode grayscale\n",
    "img_gray = img.convert(\"L\")\n",
    "\n",
    "# mengakses nilai piksel\n",
    "pixel_values = list(img_gray.getdata())\n",
    "\n",
    "# mencetak nilai piksel\n",
    "print(pixel_values)"
   ]
  },
  {
   "cell_type": "code",
   "execution_count": 13,
   "metadata": {},
   "outputs": [
    {
     "name": "stdout",
     "output_type": "stream",
     "text": [
      "[[ 67  56  87 ...  63  67  66]\n",
      " [ 80  66 129 ...  71  75  75]\n",
      " [ 96  63  74 ...  78  81  78]\n",
      " ...\n",
      " [101 149 204 ...  25  28  33]\n",
      " [172 189 173 ...  30  33  40]\n",
      " [119 124 165 ...  34  37  43]]\n"
     ]
    },
    {
     "data": {
      "image/png": "[encoded data removed]",
      "text/plain": [
       "<Figure size 2160x288 with 1 Axes>"
      ]
     },
     "metadata": {},
     "output_type": "display_data"
    }
   ],
   "source": [
    "import cv2\n",
    "import numpy as np\n",
    "from matplotlib import pyplot as plt\n",
    "\n",
    "# Load gambar grayscale\n",
    "img = cv2.imread('D:/KULIAH/Mata Kuliah/semester-4/PPDM/tugas-2/assets/sad/sad-0609.jpg', 0)\n",
    "print(img)\n",
    "# Konversi ke pixel matrix\n",
    "pixel_matrix = np.array(img)\n",
    "\n",
    "# Pembuatan colour histogram\n",
    "max_val = int(np.amax(pixel_matrix))\n",
    "histogram, _ = np.histogram(pixel_matrix, bins=np.arange(0, 257))\n",
    "\n",
    "# Penghitungan first order statistics\n",
    "mean = np.mean(pixel_matrix)\n",
    "std_dev = np.std(pixel_matrix)\n",
    "\n",
    "# Menampilkan hasil\n",
    "plt.figure(figsize=(30,4))\n",
    "plt.subplot(131), plt.imshow(img, cmap='gray')\n",
    "plt.title('Grayscale Image'), plt.xticks([]), plt.yticks([])\n",
    "# plt.subplot(132), plt.bar(np.arange(0, 256), histogram)\n",
    "# plt.title('Colour Histogram'), plt.xticks([]), plt.yticks([])\n",
    "# plt.figure(figsize=(30,4))\n",
    "# plt.subplot(133), plt.text(0.5, 0.5, f'Mean: {mean:.2f}/nStd Dev: {std_dev:.2f}', ha='center', va='center', fontsize=12)\n",
    "# plt.title('First Order Statistics'), plt.xticks([]), plt.yticks([])\n",
    "plt.show()\n"
   ]
  }
 ],
 "metadata": {
  "kernelspec": {
   "display_name": "Python 3",
   "language": "python",
   "name": "python3"
  },
  "language_info": {
   "codemirror_mode": {
    "name": "ipython",
    "version": 3
   },
   "file_extension": ".py",
   "mimetype": "text/x-python",
   "name": "python",
   "nbconvert_exporter": "python",
   "pygments_lexer": "ipython3",
   "version": "3.10.0"
  },
  "orig_nbformat": 4
 },
 "nbformat": 4,
 "nbformat_minor": 2
}
